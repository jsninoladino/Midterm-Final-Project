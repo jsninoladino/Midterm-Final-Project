{
 "cells": [
  {
   "cell_type": "code",
   "execution_count": 1,
   "metadata": {},
   "outputs": [],
   "source": [
    "import pandas as pd\n",
    "import numpy as np\n",
    "import matplotlib.pyplot as plt\n",
    "import seaborn as sns\n",
    "from sklearn.preprocessing import StandardScaler\n",
    "from sklearn.model_selection import train_test_split\n",
    "from sklearn.neighbors import KNeighborsClassifier\n",
    "from sklearn.metrics import accuracy_score\n",
    "from sklearn.metrics import confusion_matrix\n",
    "from scipy import stats\n",
    "import math\n",
    "from numpy import genfromtxt\n",
    "import png\n",
    "from numpy import genfromtxt\n",
    "from PIL import Image    \n",
    "from matplotlib.colors import ListedColormap\n",
    "from imblearn.under_sampling import RandomUnderSampler\n",
    "from collections import Counter\n",
    "from imblearn.over_sampling import RandomOverSampler\n",
    "from sklearn.decomposition import PCA\n",
    "from scipy import stats\n",
    "\n",
    "## Import up sound alert dependencies\n",
    "from IPython.display import Audio, display\n",
    "\n",
    "def allDone():\n",
    "  display(Audio(filename='Ventus.wav', autoplay=True))\n",
    "## Insert whatever audio file you want above"
   ]
  },
  {
   "cell_type": "code",
   "execution_count": 2,
   "metadata": {},
   "outputs": [
    {
     "data": {
      "text/html": [
       "<div>\n",
       "<style scoped>\n",
       "    .dataframe tbody tr th:only-of-type {\n",
       "        vertical-align: middle;\n",
       "    }\n",
       "\n",
       "    .dataframe tbody tr th {\n",
       "        vertical-align: top;\n",
       "    }\n",
       "\n",
       "    .dataframe thead th {\n",
       "        text-align: right;\n",
       "    }\n",
       "</style>\n",
       "<table border=\"1\" class=\"dataframe\">\n",
       "  <thead>\n",
       "    <tr style=\"text-align: right;\">\n",
       "      <th></th>\n",
       "      <th>age</th>\n",
       "      <th>ethnicity</th>\n",
       "      <th>gender</th>\n",
       "      <th>img_name</th>\n",
       "      <th>pixels</th>\n",
       "    </tr>\n",
       "  </thead>\n",
       "  <tbody>\n",
       "    <tr>\n",
       "      <th>0</th>\n",
       "      <td>1</td>\n",
       "      <td>2</td>\n",
       "      <td>0</td>\n",
       "      <td>20161219203650636.jpg.chip.jpg</td>\n",
       "      <td>129 128 128 126 127 130 133 135 139 142 145 14...</td>\n",
       "    </tr>\n",
       "    <tr>\n",
       "      <th>1</th>\n",
       "      <td>1</td>\n",
       "      <td>2</td>\n",
       "      <td>0</td>\n",
       "      <td>20161219222752047.jpg.chip.jpg</td>\n",
       "      <td>164 74 111 168 169 171 175 182 184 188 193 199...</td>\n",
       "    </tr>\n",
       "    <tr>\n",
       "      <th>2</th>\n",
       "      <td>1</td>\n",
       "      <td>2</td>\n",
       "      <td>0</td>\n",
       "      <td>20161219222832191.jpg.chip.jpg</td>\n",
       "      <td>67 70 71 70 69 67 70 79 90 103 116 132 145 155...</td>\n",
       "    </tr>\n",
       "    <tr>\n",
       "      <th>3</th>\n",
       "      <td>1</td>\n",
       "      <td>2</td>\n",
       "      <td>0</td>\n",
       "      <td>20161220144911423.jpg.chip.jpg</td>\n",
       "      <td>193 197 198 200 199 200 202 203 204 205 208 21...</td>\n",
       "    </tr>\n",
       "    <tr>\n",
       "      <th>4</th>\n",
       "      <td>1</td>\n",
       "      <td>2</td>\n",
       "      <td>0</td>\n",
       "      <td>20161220144914327.jpg.chip.jpg</td>\n",
       "      <td>202 205 209 210 209 209 210 211 212 214 218 21...</td>\n",
       "    </tr>\n",
       "  </tbody>\n",
       "</table>\n",
       "</div>"
      ],
      "text/plain": [
       "   age  ethnicity  gender                        img_name  \\\n",
       "0    1          2       0  20161219203650636.jpg.chip.jpg   \n",
       "1    1          2       0  20161219222752047.jpg.chip.jpg   \n",
       "2    1          2       0  20161219222832191.jpg.chip.jpg   \n",
       "3    1          2       0  20161220144911423.jpg.chip.jpg   \n",
       "4    1          2       0  20161220144914327.jpg.chip.jpg   \n",
       "\n",
       "                                              pixels  \n",
       "0  129 128 128 126 127 130 133 135 139 142 145 14...  \n",
       "1  164 74 111 168 169 171 175 182 184 188 193 199...  \n",
       "2  67 70 71 70 69 67 70 79 90 103 116 132 145 155...  \n",
       "3  193 197 198 200 199 200 202 203 204 205 208 21...  \n",
       "4  202 205 209 210 209 209 210 211 212 214 218 21...  "
      ]
     },
     "execution_count": 2,
     "metadata": {},
     "output_type": "execute_result"
    }
   ],
   "source": [
    "# Read in csv\n",
    "df = pd.read_csv('age_gender.csv')\n",
    "\n",
    "df.head()"
   ]
  },
  {
   "cell_type": "markdown",
   "metadata": {},
   "source": [
    "# Step 1: Data Cleaning"
   ]
  },
  {
   "cell_type": "code",
   "execution_count": 3,
   "metadata": {},
   "outputs": [],
   "source": [
    "df['pixels'] = df['pixels'].map(lambda x: np.array(x.split(' '), dtype=np.float32))"
   ]
  },
  {
   "cell_type": "code",
   "execution_count": 4,
   "metadata": {},
   "outputs": [],
   "source": [
    "df = df[df.age <= 75]\n",
    "df = df.reset_index(drop=True)"
   ]
  },
  {
   "cell_type": "code",
   "execution_count": 5,
   "metadata": {},
   "outputs": [],
   "source": [
    "df['age_group_i'] = pd.cut(df.age, [0, 25, 50, 75], labels= [1, 2, 3])"
   ]
  },
  {
   "cell_type": "code",
   "execution_count": 6,
   "metadata": {
    "scrolled": true
   },
   "outputs": [],
   "source": [
    "conditions = [\n",
    "    (df[\"age_group_i\"] == 1) & (df['gender'] == 1),\n",
    "    (df[\"age_group_i\"] == 2) & (df['gender'] == 1),\n",
    "    (df[\"age_group_i\"] == 3) & (df['gender'] == 1),\n",
    "    (df[\"age_group_i\"] == 1) & (df['gender'] == 0),\n",
    "    (df[\"age_group_i\"] == 2) & (df['gender'] == 0),\n",
    "    (df[\"age_group_i\"] == 3) & (df['gender'] == 0)\n",
    "]\n",
    "\n",
    "choices = ['FY', 'FM', 'FO', 'MY', 'MM', 'MO']\n",
    "\n",
    "df['class'] = np.select(conditions, choices)"
   ]
  },
  {
   "cell_type": "code",
   "execution_count": 7,
   "metadata": {},
   "outputs": [],
   "source": [
    "df = df.drop(columns = ['ethnicity', 'img_name'])"
   ]
  },
  {
   "cell_type": "code",
   "execution_count": 8,
   "metadata": {},
   "outputs": [
    {
     "data": {
      "text/plain": [
       "age            0\n",
       "gender         0\n",
       "pixels         0\n",
       "age_group_i    0\n",
       "class          0\n",
       "dtype: int64"
      ]
     },
     "execution_count": 8,
     "metadata": {},
     "output_type": "execute_result"
    }
   ],
   "source": [
    "df.isna().sum()"
   ]
  },
  {
   "cell_type": "code",
   "execution_count": 9,
   "metadata": {},
   "outputs": [],
   "source": [
    "# Aesthetics\n",
    "sns.set_style(\"whitegrid\")"
   ]
  },
  {
   "cell_type": "code",
   "execution_count": 10,
   "metadata": {},
   "outputs": [
    {
     "data": {
      "text/plain": [
       "<matplotlib.axes._subplots.AxesSubplot at 0x21d4ab5d7b8>"
      ]
     },
     "execution_count": 10,
     "metadata": {},
     "output_type": "execute_result"
    },
    {
     "data": {
      "image/png": "[encoded data removed]",
      "text/plain": [
       "<Figure size 432x288 with 1 Axes>"
      ]
     },
     "metadata": {},
     "output_type": "display_data"
    }
   ],
   "source": [
    "sns.countplot(df['class'].sort_values(), palette=\"Set1\")"
   ]
  },
  {
   "cell_type": "code",
   "execution_count": 11,
   "metadata": {},
   "outputs": [
    {
     "data": {
      "text/plain": [
       "22854"
      ]
     },
     "execution_count": 11,
     "metadata": {},
     "output_type": "execute_result"
    }
   ],
   "source": [
    "len(df)"
   ]
  },
  {
   "cell_type": "code",
   "execution_count": 12,
   "metadata": {},
   "outputs": [
    {
     "data": {
      "image/png": "[encoded data removed]",
      "text/plain": [
       "<PIL.Image.Image image mode=RGB size=48x48 at 0x21D4B19EFD0>"
      ]
     },
     "execution_count": 12,
     "metadata": {},
     "output_type": "execute_result"
    }
   ],
   "source": [
    "image = Image.fromarray((df.pixels[22853].reshape(48,48)).astype(np.uint8))\n",
    "\n",
    "image.convert('RGB')"
   ]
  },
  {
   "cell_type": "code",
   "execution_count": 13,
   "metadata": {},
   "outputs": [],
   "source": [
    "col_names = []\n",
    "for i in range(0,48):\n",
    "    for j in range(0,48):\n",
    "        col_names.append('r'+str(i)+'c'+str(j))\n",
    "\n",
    "df[col_names] = pd.DataFrame(df.pixels.tolist(), index= df.index, columns = col_names)"
   ]
  },
  {
   "cell_type": "markdown",
   "metadata": {},
   "source": [
    "# Step 2: Discriminating Power, Standardization, and Correlation Matrix"
   ]
  },
  {
   "cell_type": "code",
   "execution_count": 14,
   "metadata": {},
   "outputs": [],
   "source": [
    "select_feat = ['r18c23','r19c24','r23c6','r14c30','r5c12','class']"
   ]
  },
  {
   "cell_type": "code",
   "execution_count": 15,
   "metadata": {},
   "outputs": [],
   "source": [
    "class_set = ['FY', 'FM', 'FO', 'MY', 'MM', 'MO']"
   ]
  },
  {
   "cell_type": "code",
   "execution_count": 16,
   "metadata": {},
   "outputs": [],
   "source": [
    "select_df = df[select_feat]"
   ]
  },
  {
   "cell_type": "code",
   "execution_count": 17,
   "metadata": {},
   "outputs": [
    {
     "data": {
      "image/png": "[encoded data removed]",
      "text/plain": [
       "<Figure size 1080x1296 with 30 Axes>"
      ]
     },
     "metadata": {},
     "output_type": "display_data"
    }
   ],
   "source": [
    "fig, axes = plt.subplots(nrows=6, ncols=5, figsize = (15,18), sharex='col', sharey='row')\n",
    "\n",
    "\n",
    "for i, column in enumerate(select_df.columns[:5]):\n",
    "    sns.distplot(select_df[select_df['class'] == 'FY'][column], ax = axes[0,i], color = 'green').set_title('FY Class')\n",
    "    sns.distplot(select_df[select_df['class'] == 'FM'][column], ax = axes[1,i], color = 'red').set_title('FM Class')\n",
    "    sns.distplot(select_df[select_df['class'] == 'FO'][column], ax = axes[2,i], color = 'blue').set_title('FO Class')\n",
    "    sns.distplot(select_df[select_df['class'] == 'MY'][column], ax = axes[3,i], color = 'yellow').set_title('MY Class')\n",
    "    sns.distplot(select_df[select_df['class'] == 'MM'][column], ax = axes[4,i], color = 'purple').set_title('MM Class')\n",
    "    sns.distplot(select_df[select_df['class'] == 'MO'][column], ax = axes[5,i], color = 'orange').set_title('MO Class')"
   ]
  },
  {
   "cell_type": "code",
   "execution_count": 18,
   "metadata": {},
   "outputs": [],
   "source": [
    "# KS-test to Compare Histograms Between Pairs of Classes\n",
    " #   Null hypotheses: Two group histograms are equal\n",
    " #   Alternative hypotheses: Two group histograms are different (two-tailed)\n",
    "\n",
    "KS_test_results_1_2 = {}\n",
    "KS_test_results_1_3 = {}\n",
    "KS_test_results_1_4 = {}\n",
    "KS_test_results_1_5 = {}\n",
    "KS_test_results_1_6 = {}\n",
    "KS_test_results_2_3 = {}\n",
    "KS_test_results_2_4 = {}\n",
    "KS_test_results_2_5 = {}\n",
    "KS_test_results_2_6 = {}\n",
    "KS_test_results_3_4 = {}\n",
    "KS_test_results_3_5 = {}\n",
    "KS_test_results_3_6 = {}\n",
    "KS_test_results_4_5 = {}\n",
    "KS_test_results_4_6 = {}\n",
    "KS_test_results_5_6 = {}\n",
    " \n",
    "# loop over column_list and execute code explained above\n",
    "for column in select_df.columns[:5]:\n",
    "    groupFY = select_df[select_df['class'] == 'FY'][column]\n",
    "    groupFM = select_df[select_df['class'] == 'FM'][column]\n",
    "    groupFO = select_df[select_df['class'] == 'FO'][column]\n",
    "    groupMY = select_df[select_df['class'] == 'MY'][column]\n",
    "    groupMM = select_df[select_df['class'] == 'MM'][column]\n",
    "    groupMO = select_df[select_df['class'] == 'MO'][column]\n",
    "    # add the output to the dictionary  \n",
    "    KS_test_results_1_2[column] = stats.ks_2samp(groupFY,groupFM)\n",
    "    KS_test_results_1_3[column] = stats.ks_2samp(groupFY,groupFO)\n",
    "    KS_test_results_1_4[column] = stats.ks_2samp(groupFY,groupMY)\n",
    "    KS_test_results_1_5[column] = stats.ks_2samp(groupFY,groupMM)\n",
    "    KS_test_results_1_6[column] = stats.ks_2samp(groupFY,groupMO)\n",
    "    KS_test_results_2_3[column] = stats.ks_2samp(groupFM,groupFO)\n",
    "    KS_test_results_2_4[column] = stats.ks_2samp(groupFM,groupMY)\n",
    "    KS_test_results_2_5[column] = stats.ks_2samp(groupFM,groupMM)\n",
    "    KS_test_results_2_6[column] = stats.ks_2samp(groupFM,groupMO)\n",
    "    KS_test_results_3_4[column] = stats.ks_2samp(groupFO,groupMY)\n",
    "    KS_test_results_3_5[column] = stats.ks_2samp(groupFO,groupMM)\n",
    "    KS_test_results_3_6[column] = stats.ks_2samp(groupFO,groupMO)\n",
    "    KS_test_results_4_5[column] = stats.ks_2samp(groupMY,groupMM)\n",
    "    KS_test_results_4_6[column] = stats.ks_2samp(groupMY,groupMO)\n",
    "    KS_test_results_5_6[column] = stats.ks_2samp(groupMM,groupMO)\n",
    " \n",
    "\n",
    "    # KS Test\n",
    "KS_results_df_1_2 = pd.DataFrame.from_dict(KS_test_results_1_2,orient='Index')\n",
    "KS_results_df_1_2.columns = ['KS statistic for Group FY & FM','pvalue for Group FY & FM']\n",
    "KS_results_df_1_3 = pd.DataFrame.from_dict(KS_test_results_1_3,orient='Index')\n",
    "KS_results_df_1_3.columns = ['KS statistic for Group FY & FO','pvalue for Group FY & FO']\n",
    "KS_results_df_1_4 = pd.DataFrame.from_dict(KS_test_results_1_4,orient='Index')\n",
    "KS_results_df_1_4.columns = ['KS statistic for Group FY & MY','pvalue for Group FY & MY']\n",
    "KS_results_df_1_5 = pd.DataFrame.from_dict(KS_test_results_1_5,orient='Index')\n",
    "KS_results_df_1_5.columns = ['KS statistic for Group FY & MM','pvalue for Group FY & MM']\n",
    "KS_results_df_1_6 = pd.DataFrame.from_dict(KS_test_results_1_6,orient='Index')\n",
    "KS_results_df_1_6.columns = ['KS statistic for Group FY & MO','pvalue for Group FY & MO']\n",
    "KS_results_df_2_3 = pd.DataFrame.from_dict(KS_test_results_2_3,orient='Index')\n",
    "KS_results_df_2_3.columns = ['KS statistic for Group FM & FO','pvalue for Group FM & FO']\n",
    "KS_results_df_2_4 = pd.DataFrame.from_dict(KS_test_results_2_4,orient='Index')\n",
    "KS_results_df_2_4.columns = ['KS statistic for Group FM & MY','pvalue for Group FM & MY']\n",
    "KS_results_df_2_5 = pd.DataFrame.from_dict(KS_test_results_2_5,orient='Index')\n",
    "KS_results_df_2_5.columns = ['KS statistic for Group FM & MM','pvalue for Group FM & MM']\n",
    "KS_results_df_2_6 = pd.DataFrame.from_dict(KS_test_results_2_6,orient='Index')\n",
    "KS_results_df_2_6.columns = ['KS statistic for Group FM & MO','pvalue for Group FM & MO']\n",
    "KS_results_df_3_4 = pd.DataFrame.from_dict(KS_test_results_3_4,orient='Index')\n",
    "KS_results_df_3_4.columns = ['KS statistic for Group FO & MY','pvalue for Group FO & MY']\n",
    "KS_results_df_3_5 = pd.DataFrame.from_dict(KS_test_results_3_5,orient='Index')\n",
    "KS_results_df_3_5.columns = ['KS statistic for Group FO & MM','pvalue for Group FO & MM']\n",
    "KS_results_df_3_6 = pd.DataFrame.from_dict(KS_test_results_3_6,orient='Index')\n",
    "KS_results_df_3_6.columns = ['KS statistic for Group FO & MO','pvalue for Group FO & MO']\n",
    "KS_results_df_4_5 = pd.DataFrame.from_dict(KS_test_results_4_5,orient='Index')\n",
    "KS_results_df_4_5.columns = ['KS statistic for Group MY & MM','pvalue for Group MY & MM']\n",
    "KS_results_df_4_6 = pd.DataFrame.from_dict(KS_test_results_4_6,orient='Index')\n",
    "KS_results_df_4_6.columns = ['KS statistic for Group MY & MO','pvalue for Group MY & MO']\n",
    "KS_results_df_5_6 = pd.DataFrame.from_dict(KS_test_results_5_6,orient='Index')\n",
    "KS_results_df_5_6.columns = ['KS statistic for Group MM & MO','pvalue for Group MM & MO']\n",
    "\n",
    " \n",
    "KS_test_Results_df = pd.concat([KS_results_df_1_2, \n",
    "                                KS_results_df_1_3, \n",
    "                                KS_results_df_1_4,\n",
    "                                KS_results_df_1_5,\n",
    "                                KS_results_df_1_6,\n",
    "                                KS_results_df_2_3,\n",
    "                                KS_results_df_2_4,\n",
    "                                KS_results_df_2_5,\n",
    "                                KS_results_df_2_6,\n",
    "                                KS_results_df_3_4,\n",
    "                                KS_results_df_3_5,\n",
    "                                KS_results_df_3_6,\n",
    "                                KS_results_df_4_5,\n",
    "                                KS_results_df_4_6,\n",
    "                                KS_results_df_5_6], axis=1)\n",
    "KS_test_Results_df\n",
    " \n",
    "# Discrimnation Power based of KS Results\n",
    "pow12 = 1 - KS_test_Results_df.iloc[:,1]\n",
    "pow13 = 1 - KS_test_Results_df.iloc[:,3]\n",
    "pow14 = 1 - KS_test_Results_df.iloc[:,5]\n",
    "pow15 = 1 - KS_test_Results_df.iloc[:,7]\n",
    "pow16 = 1 - KS_test_Results_df.iloc[:,9]\n",
    "pow23 = 1 - KS_test_Results_df.iloc[:,11]\n",
    "pow24 = 1 - KS_test_Results_df.iloc[:,13]\n",
    "pow25 = 1 - KS_test_Results_df.iloc[:,15]\n",
    "pow26 = 1 - KS_test_Results_df.iloc[:,17]\n",
    "pow34 = 1 - KS_test_Results_df.iloc[:,19]\n",
    "pow35 = 1 - KS_test_Results_df.iloc[:,21]\n",
    "pow36 = 1 - KS_test_Results_df.iloc[:,23]\n",
    "pow45 = 1 - KS_test_Results_df.iloc[:,25]\n",
    "pow46 = 1 - KS_test_Results_df.iloc[:,27]\n",
    "pow56 = 1 - KS_test_Results_df.iloc[:,29]\n",
    " \n",
    "Discrim_Power = pd.concat([pow12, \n",
    "                           pow13, \n",
    "                           pow14, \n",
    "                           pow15, \n",
    "                           pow16, \n",
    "                           pow23,\n",
    "                           pow24,\n",
    "                           pow25,\n",
    "                           pow26,\n",
    "                           pow35,\n",
    "                           pow36,\n",
    "                           pow45,\n",
    "                           pow46,\n",
    "                           pow56], axis=1)\n",
    "# Discrim_Power.columns = ['KS - Discriminating Power of Group FY & FM', 'KS - Discriminating Power of Group FY & FO', 'KS - Discriminating Power of Group FM & FO']"
   ]
  },
  {
   "cell_type": "code",
   "execution_count": 19,
   "metadata": {},
   "outputs": [
    {
     "data": {
      "text/html": [
       "<div>\n",
       "<style scoped>\n",
       "    .dataframe tbody tr th:only-of-type {\n",
       "        vertical-align: middle;\n",
       "    }\n",
       "\n",
       "    .dataframe tbody tr th {\n",
       "        vertical-align: top;\n",
       "    }\n",
       "\n",
       "    .dataframe thead th {\n",
       "        text-align: right;\n",
       "    }\n",
       "</style>\n",
       "<table border=\"1\" class=\"dataframe\">\n",
       "  <thead>\n",
       "    <tr style=\"text-align: right;\">\n",
       "      <th></th>\n",
       "      <th>KS statistic for Group FY &amp; FM</th>\n",
       "      <th>pvalue for Group FY &amp; FM</th>\n",
       "      <th>KS statistic for Group FY &amp; FO</th>\n",
       "      <th>pvalue for Group FY &amp; FO</th>\n",
       "      <th>KS statistic for Group FY &amp; MY</th>\n",
       "      <th>pvalue for Group FY &amp; MY</th>\n",
       "      <th>KS statistic for Group FY &amp; MM</th>\n",
       "      <th>pvalue for Group FY &amp; MM</th>\n",
       "      <th>KS statistic for Group FY &amp; MO</th>\n",
       "      <th>pvalue for Group FY &amp; MO</th>\n",
       "      <th>...</th>\n",
       "      <th>KS statistic for Group FO &amp; MM</th>\n",
       "      <th>pvalue for Group FO &amp; MM</th>\n",
       "      <th>KS statistic for Group FO &amp; MO</th>\n",
       "      <th>pvalue for Group FO &amp; MO</th>\n",
       "      <th>KS statistic for Group MY &amp; MM</th>\n",
       "      <th>pvalue for Group MY &amp; MM</th>\n",
       "      <th>KS statistic for Group MY &amp; MO</th>\n",
       "      <th>pvalue for Group MY &amp; MO</th>\n",
       "      <th>KS statistic for Group MM &amp; MO</th>\n",
       "      <th>pvalue for Group MM &amp; MO</th>\n",
       "    </tr>\n",
       "  </thead>\n",
       "  <tbody>\n",
       "    <tr>\n",
       "      <th>r18c23</th>\n",
       "      <td>0.122252</td>\n",
       "      <td>2.997602e-15</td>\n",
       "      <td>0.155031</td>\n",
       "      <td>3.330669e-16</td>\n",
       "      <td>0.060174</td>\n",
       "      <td>2.771141e-06</td>\n",
       "      <td>0.250363</td>\n",
       "      <td>9.558254e-145</td>\n",
       "      <td>0.288139</td>\n",
       "      <td>2.442491e-15</td>\n",
       "      <td>...</td>\n",
       "      <td>0.145829</td>\n",
       "      <td>3.153538e-19</td>\n",
       "      <td>0.159494</td>\n",
       "      <td>0.000000</td>\n",
       "      <td>0.201760</td>\n",
       "      <td>4.773959e-15</td>\n",
       "      <td>0.246914</td>\n",
       "      <td>4.329870e-15</td>\n",
       "      <td>0.048746</td>\n",
       "      <td>3.440639e-04</td>\n",
       "    </tr>\n",
       "    <tr>\n",
       "      <th>r19c24</th>\n",
       "      <td>0.141299</td>\n",
       "      <td>2.997602e-15</td>\n",
       "      <td>0.180259</td>\n",
       "      <td>3.330669e-16</td>\n",
       "      <td>0.056223</td>\n",
       "      <td>1.533314e-05</td>\n",
       "      <td>0.249474</td>\n",
       "      <td>1.043339e-143</td>\n",
       "      <td>0.291012</td>\n",
       "      <td>2.442491e-15</td>\n",
       "      <td>...</td>\n",
       "      <td>0.141816</td>\n",
       "      <td>3.332048e-18</td>\n",
       "      <td>0.143980</td>\n",
       "      <td>0.000000</td>\n",
       "      <td>0.201474</td>\n",
       "      <td>4.773959e-15</td>\n",
       "      <td>0.249424</td>\n",
       "      <td>4.329870e-15</td>\n",
       "      <td>0.055534</td>\n",
       "      <td>2.615041e-05</td>\n",
       "    </tr>\n",
       "    <tr>\n",
       "      <th>r23c6</th>\n",
       "      <td>0.162511</td>\n",
       "      <td>2.997602e-15</td>\n",
       "      <td>0.164751</td>\n",
       "      <td>3.330669e-16</td>\n",
       "      <td>0.089620</td>\n",
       "      <td>2.046141e-13</td>\n",
       "      <td>0.165600</td>\n",
       "      <td>4.529732e-63</td>\n",
       "      <td>0.189421</td>\n",
       "      <td>2.442491e-15</td>\n",
       "      <td>...</td>\n",
       "      <td>0.060713</td>\n",
       "      <td>1.099173e-03</td>\n",
       "      <td>0.072925</td>\n",
       "      <td>0.000310</td>\n",
       "      <td>0.218193</td>\n",
       "      <td>4.773959e-15</td>\n",
       "      <td>0.241739</td>\n",
       "      <td>4.329870e-15</td>\n",
       "      <td>0.035217</td>\n",
       "      <td>2.153244e-02</td>\n",
       "    </tr>\n",
       "    <tr>\n",
       "      <th>r14c30</th>\n",
       "      <td>0.055123</td>\n",
       "      <td>9.060018e-07</td>\n",
       "      <td>0.050143</td>\n",
       "      <td>1.625822e-02</td>\n",
       "      <td>0.021787</td>\n",
       "      <td>3.358617e-01</td>\n",
       "      <td>0.070181</td>\n",
       "      <td>1.236844e-11</td>\n",
       "      <td>0.065419</td>\n",
       "      <td>1.740551e-06</td>\n",
       "      <td>...</td>\n",
       "      <td>0.087504</td>\n",
       "      <td>3.442743e-07</td>\n",
       "      <td>0.058560</td>\n",
       "      <td>0.006941</td>\n",
       "      <td>0.058138</td>\n",
       "      <td>1.208681e-06</td>\n",
       "      <td>0.067726</td>\n",
       "      <td>4.358776e-06</td>\n",
       "      <td>0.052488</td>\n",
       "      <td>8.663671e-05</td>\n",
       "    </tr>\n",
       "    <tr>\n",
       "      <th>r5c12</th>\n",
       "      <td>0.061434</td>\n",
       "      <td>2.649554e-08</td>\n",
       "      <td>0.048692</td>\n",
       "      <td>2.137197e-02</td>\n",
       "      <td>0.027235</td>\n",
       "      <td>1.246887e-01</td>\n",
       "      <td>0.061684</td>\n",
       "      <td>4.373664e-09</td>\n",
       "      <td>0.069633</td>\n",
       "      <td>2.727398e-07</td>\n",
       "      <td>...</td>\n",
       "      <td>0.092960</td>\n",
       "      <td>4.651756e-08</td>\n",
       "      <td>0.028920</td>\n",
       "      <td>0.489056</td>\n",
       "      <td>0.056484</td>\n",
       "      <td>2.695988e-06</td>\n",
       "      <td>0.061124</td>\n",
       "      <td>4.873074e-05</td>\n",
       "      <td>0.086158</td>\n",
       "      <td>3.580802e-12</td>\n",
       "    </tr>\n",
       "  </tbody>\n",
       "</table>\n",
       "<p>5 rows × 30 columns</p>\n",
       "</div>"
      ],
      "text/plain": [
       "        KS statistic for Group FY & FM  pvalue for Group FY & FM  \\\n",
       "r18c23                        0.122252              2.997602e-15   \n",
       "r19c24                        0.141299              2.997602e-15   \n",
       "r23c6                         0.162511              2.997602e-15   \n",
       "r14c30                        0.055123              9.060018e-07   \n",
       "r5c12                         0.061434              2.649554e-08   \n",
       "\n",
       "        KS statistic for Group FY & FO  pvalue for Group FY & FO  \\\n",
       "r18c23                        0.155031              3.330669e-16   \n",
       "r19c24                        0.180259              3.330669e-16   \n",
       "r23c6                         0.164751              3.330669e-16   \n",
       "r14c30                        0.050143              1.625822e-02   \n",
       "r5c12                         0.048692              2.137197e-02   \n",
       "\n",
       "        KS statistic for Group FY & MY  pvalue for Group FY & MY  \\\n",
       "r18c23                        0.060174              2.771141e-06   \n",
       "r19c24                        0.056223              1.533314e-05   \n",
       "r23c6                         0.089620              2.046141e-13   \n",
       "r14c30                        0.021787              3.358617e-01   \n",
       "r5c12                         0.027235              1.246887e-01   \n",
       "\n",
       "        KS statistic for Group FY & MM  pvalue for Group FY & MM  \\\n",
       "r18c23                        0.250363             9.558254e-145   \n",
       "r19c24                        0.249474             1.043339e-143   \n",
       "r23c6                         0.165600              4.529732e-63   \n",
       "r14c30                        0.070181              1.236844e-11   \n",
       "r5c12                         0.061684              4.373664e-09   \n",
       "\n",
       "        KS statistic for Group FY & MO  pvalue for Group FY & MO  ...  \\\n",
       "r18c23                        0.288139              2.442491e-15  ...   \n",
       "r19c24                        0.291012              2.442491e-15  ...   \n",
       "r23c6                         0.189421              2.442491e-15  ...   \n",
       "r14c30                        0.065419              1.740551e-06  ...   \n",
       "r5c12                         0.069633              2.727398e-07  ...   \n",
       "\n",
       "        KS statistic for Group FO & MM  pvalue for Group FO & MM  \\\n",
       "r18c23                        0.145829              3.153538e-19   \n",
       "r19c24                        0.141816              3.332048e-18   \n",
       "r23c6                         0.060713              1.099173e-03   \n",
       "r14c30                        0.087504              3.442743e-07   \n",
       "r5c12                         0.092960              4.651756e-08   \n",
       "\n",
       "        KS statistic for Group FO & MO  pvalue for Group FO & MO  \\\n",
       "r18c23                        0.159494                  0.000000   \n",
       "r19c24                        0.143980                  0.000000   \n",
       "r23c6                         0.072925                  0.000310   \n",
       "r14c30                        0.058560                  0.006941   \n",
       "r5c12                         0.028920                  0.489056   \n",
       "\n",
       "        KS statistic for Group MY & MM  pvalue for Group MY & MM  \\\n",
       "r18c23                        0.201760              4.773959e-15   \n",
       "r19c24                        0.201474              4.773959e-15   \n",
       "r23c6                         0.218193              4.773959e-15   \n",
       "r14c30                        0.058138              1.208681e-06   \n",
       "r5c12                         0.056484              2.695988e-06   \n",
       "\n",
       "        KS statistic for Group MY & MO  pvalue for Group MY & MO  \\\n",
       "r18c23                        0.246914              4.329870e-15   \n",
       "r19c24                        0.249424              4.329870e-15   \n",
       "r23c6                         0.241739              4.329870e-15   \n",
       "r14c30                        0.067726              4.358776e-06   \n",
       "r5c12                         0.061124              4.873074e-05   \n",
       "\n",
       "        KS statistic for Group MM & MO  pvalue for Group MM & MO  \n",
       "r18c23                        0.048746              3.440639e-04  \n",
       "r19c24                        0.055534              2.615041e-05  \n",
       "r23c6                         0.035217              2.153244e-02  \n",
       "r14c30                        0.052488              8.663671e-05  \n",
       "r5c12                         0.086158              3.580802e-12  \n",
       "\n",
       "[5 rows x 30 columns]"
      ]
     },
     "execution_count": 19,
     "metadata": {},
     "output_type": "execute_result"
    }
   ],
   "source": [
    "KS_test_Results_df"
   ]
  },
  {
   "cell_type": "code",
   "execution_count": 20,
   "metadata": {},
   "outputs": [
    {
     "data": {
      "text/html": [
       "<div>\n",
       "<style scoped>\n",
       "    .dataframe tbody tr th:only-of-type {\n",
       "        vertical-align: middle;\n",
       "    }\n",
       "\n",
       "    .dataframe tbody tr th {\n",
       "        vertical-align: top;\n",
       "    }\n",
       "\n",
       "    .dataframe thead th {\n",
       "        text-align: right;\n",
       "    }\n",
       "</style>\n",
       "<table border=\"1\" class=\"dataframe\">\n",
       "  <thead>\n",
       "    <tr style=\"text-align: right;\">\n",
       "      <th></th>\n",
       "      <th>pvalue for Group FY &amp; FM</th>\n",
       "      <th>pvalue for Group FY &amp; FO</th>\n",
       "      <th>pvalue for Group FY &amp; MY</th>\n",
       "      <th>pvalue for Group FY &amp; MM</th>\n",
       "      <th>pvalue for Group FY &amp; MO</th>\n",
       "      <th>pvalue for Group FM &amp; FO</th>\n",
       "      <th>pvalue for Group FM &amp; MY</th>\n",
       "      <th>pvalue for Group FM &amp; MM</th>\n",
       "      <th>pvalue for Group FM &amp; MO</th>\n",
       "      <th>pvalue for Group FO &amp; MM</th>\n",
       "      <th>pvalue for Group FO &amp; MO</th>\n",
       "      <th>pvalue for Group MY &amp; MM</th>\n",
       "      <th>pvalue for Group MY &amp; MO</th>\n",
       "      <th>pvalue for Group MM &amp; MO</th>\n",
       "    </tr>\n",
       "  </thead>\n",
       "  <tbody>\n",
       "    <tr>\n",
       "      <th>r18c23</th>\n",
       "      <td>1.000000</td>\n",
       "      <td>1.000000</td>\n",
       "      <td>0.999997</td>\n",
       "      <td>1.0</td>\n",
       "      <td>1.000000</td>\n",
       "      <td>0.921868</td>\n",
       "      <td>1.000000</td>\n",
       "      <td>1.000000</td>\n",
       "      <td>1.000000</td>\n",
       "      <td>1.000000</td>\n",
       "      <td>1.000000</td>\n",
       "      <td>1.000000</td>\n",
       "      <td>1.000000</td>\n",
       "      <td>0.999656</td>\n",
       "    </tr>\n",
       "    <tr>\n",
       "      <th>r19c24</th>\n",
       "      <td>1.000000</td>\n",
       "      <td>1.000000</td>\n",
       "      <td>0.999985</td>\n",
       "      <td>1.0</td>\n",
       "      <td>1.000000</td>\n",
       "      <td>0.991859</td>\n",
       "      <td>1.000000</td>\n",
       "      <td>1.000000</td>\n",
       "      <td>1.000000</td>\n",
       "      <td>1.000000</td>\n",
       "      <td>1.000000</td>\n",
       "      <td>1.000000</td>\n",
       "      <td>1.000000</td>\n",
       "      <td>0.999974</td>\n",
       "    </tr>\n",
       "    <tr>\n",
       "      <th>r23c6</th>\n",
       "      <td>1.000000</td>\n",
       "      <td>1.000000</td>\n",
       "      <td>1.000000</td>\n",
       "      <td>1.0</td>\n",
       "      <td>1.000000</td>\n",
       "      <td>1.000000</td>\n",
       "      <td>1.000000</td>\n",
       "      <td>1.000000</td>\n",
       "      <td>1.000000</td>\n",
       "      <td>0.998901</td>\n",
       "      <td>0.999690</td>\n",
       "      <td>1.000000</td>\n",
       "      <td>1.000000</td>\n",
       "      <td>0.978468</td>\n",
       "    </tr>\n",
       "    <tr>\n",
       "      <th>r14c30</th>\n",
       "      <td>0.999999</td>\n",
       "      <td>0.983742</td>\n",
       "      <td>0.664138</td>\n",
       "      <td>1.0</td>\n",
       "      <td>0.999998</td>\n",
       "      <td>0.999199</td>\n",
       "      <td>0.999966</td>\n",
       "      <td>0.999910</td>\n",
       "      <td>0.557798</td>\n",
       "      <td>1.000000</td>\n",
       "      <td>0.993059</td>\n",
       "      <td>0.999999</td>\n",
       "      <td>0.999996</td>\n",
       "      <td>0.999913</td>\n",
       "    </tr>\n",
       "    <tr>\n",
       "      <th>r5c12</th>\n",
       "      <td>1.000000</td>\n",
       "      <td>0.978628</td>\n",
       "      <td>0.875311</td>\n",
       "      <td>1.0</td>\n",
       "      <td>1.000000</td>\n",
       "      <td>1.000000</td>\n",
       "      <td>0.999999</td>\n",
       "      <td>0.999908</td>\n",
       "      <td>1.000000</td>\n",
       "      <td>1.000000</td>\n",
       "      <td>0.510944</td>\n",
       "      <td>0.999997</td>\n",
       "      <td>0.999951</td>\n",
       "      <td>1.000000</td>\n",
       "    </tr>\n",
       "  </tbody>\n",
       "</table>\n",
       "</div>"
      ],
      "text/plain": [
       "        pvalue for Group FY & FM  pvalue for Group FY & FO  \\\n",
       "r18c23                  1.000000                  1.000000   \n",
       "r19c24                  1.000000                  1.000000   \n",
       "r23c6                   1.000000                  1.000000   \n",
       "r14c30                  0.999999                  0.983742   \n",
       "r5c12                   1.000000                  0.978628   \n",
       "\n",
       "        pvalue for Group FY & MY  pvalue for Group FY & MM  \\\n",
       "r18c23                  0.999997                       1.0   \n",
       "r19c24                  0.999985                       1.0   \n",
       "r23c6                   1.000000                       1.0   \n",
       "r14c30                  0.664138                       1.0   \n",
       "r5c12                   0.875311                       1.0   \n",
       "\n",
       "        pvalue for Group FY & MO  pvalue for Group FM & FO  \\\n",
       "r18c23                  1.000000                  0.921868   \n",
       "r19c24                  1.000000                  0.991859   \n",
       "r23c6                   1.000000                  1.000000   \n",
       "r14c30                  0.999998                  0.999199   \n",
       "r5c12                   1.000000                  1.000000   \n",
       "\n",
       "        pvalue for Group FM & MY  pvalue for Group FM & MM  \\\n",
       "r18c23                  1.000000                  1.000000   \n",
       "r19c24                  1.000000                  1.000000   \n",
       "r23c6                   1.000000                  1.000000   \n",
       "r14c30                  0.999966                  0.999910   \n",
       "r5c12                   0.999999                  0.999908   \n",
       "\n",
       "        pvalue for Group FM & MO  pvalue for Group FO & MM  \\\n",
       "r18c23                  1.000000                  1.000000   \n",
       "r19c24                  1.000000                  1.000000   \n",
       "r23c6                   1.000000                  0.998901   \n",
       "r14c30                  0.557798                  1.000000   \n",
       "r5c12                   1.000000                  1.000000   \n",
       "\n",
       "        pvalue for Group FO & MO  pvalue for Group MY & MM  \\\n",
       "r18c23                  1.000000                  1.000000   \n",
       "r19c24                  1.000000                  1.000000   \n",
       "r23c6                   0.999690                  1.000000   \n",
       "r14c30                  0.993059                  0.999999   \n",
       "r5c12                   0.510944                  0.999997   \n",
       "\n",
       "        pvalue for Group MY & MO  pvalue for Group MM & MO  \n",
       "r18c23                  1.000000                  0.999656  \n",
       "r19c24                  1.000000                  0.999974  \n",
       "r23c6                   1.000000                  0.978468  \n",
       "r14c30                  0.999996                  0.999913  \n",
       "r5c12                   0.999951                  1.000000  "
      ]
     },
     "execution_count": 20,
     "metadata": {},
     "output_type": "execute_result"
    }
   ],
   "source": [
    "Discrim_Power"
   ]
  },
  {
   "cell_type": "code",
   "execution_count": 21,
   "metadata": {},
   "outputs": [],
   "source": [
    "X = df.iloc[:,5:]\n",
    "\n",
    "y = df.iloc[:,4]"
   ]
  },
  {
   "cell_type": "code",
   "execution_count": 22,
   "metadata": {},
   "outputs": [],
   "source": [
    "X_classi = []\n",
    "\n",
    "for i in class_set:\n",
    "    X_classi.append(df[df['class'] == i].iloc[:,5:])\n",
    " \n",
    " "
   ]
  },
  {
   "cell_type": "code",
   "execution_count": 23,
   "metadata": {},
   "outputs": [],
   "source": [
    "sXi = []\n",
    "for i in X_classi:\n",
    "    scaler = StandardScaler()\n",
    "    scaler.fit(i)\n",
    "    sXi.append(pd.DataFrame(scaler.transform(i), columns = col_names))"
   ]
  },
  {
   "cell_type": "code",
   "execution_count": 24,
   "metadata": {},
   "outputs": [],
   "source": [
    "sXi_corr =[]\n",
    "\n",
    "for i in sXi:\n",
    "    sXi_corr.append(i.corr())"
   ]
  },
  {
   "cell_type": "code",
   "execution_count": 25,
   "metadata": {},
   "outputs": [],
   "source": [
    "corr_frames = []\n",
    "for i in sXi_corr:\n",
    "    corr_frames.append(pd.DataFrame(i.unstack().sort_values(kind = 'quicksort', ascending=False).drop_duplicates()[1:5]))"
   ]
  },
  {
   "cell_type": "code",
   "execution_count": 26,
   "metadata": {},
   "outputs": [
    {
     "data": {
      "text/html": [
       "<div>\n",
       "<style scoped>\n",
       "    .dataframe tbody tr th:only-of-type {\n",
       "        vertical-align: middle;\n",
       "    }\n",
       "\n",
       "    .dataframe tbody tr th {\n",
       "        vertical-align: top;\n",
       "    }\n",
       "\n",
       "    .dataframe thead th {\n",
       "        text-align: right;\n",
       "    }\n",
       "</style>\n",
       "<table border=\"1\" class=\"dataframe\">\n",
       "  <thead>\n",
       "    <tr style=\"text-align: right;\">\n",
       "      <th></th>\n",
       "      <th></th>\n",
       "      <th>0</th>\n",
       "    </tr>\n",
       "  </thead>\n",
       "  <tbody>\n",
       "    <tr>\n",
       "      <th>r18c23</th>\n",
       "      <th>r19c23</th>\n",
       "      <td>0.990086</td>\n",
       "    </tr>\n",
       "    <tr>\n",
       "      <th>r25c40</th>\n",
       "      <th>r24c40</th>\n",
       "      <td>0.989946</td>\n",
       "    </tr>\n",
       "    <tr>\n",
       "      <th>r24c39</th>\n",
       "      <th>r25c39</th>\n",
       "      <td>0.989869</td>\n",
       "    </tr>\n",
       "    <tr>\n",
       "      <th>r23c6</th>\n",
       "      <th>r22c6</th>\n",
       "      <td>0.989400</td>\n",
       "    </tr>\n",
       "  </tbody>\n",
       "</table>\n",
       "</div>"
      ],
      "text/plain": [
       "                      0\n",
       "r18c23 r19c23  0.990086\n",
       "r25c40 r24c40  0.989946\n",
       "r24c39 r25c39  0.989869\n",
       "r23c6  r22c6   0.989400"
      ]
     },
     "execution_count": 26,
     "metadata": {},
     "output_type": "execute_result"
    }
   ],
   "source": [
    "corr_frames[0]"
   ]
  },
  {
   "cell_type": "code",
   "execution_count": 27,
   "metadata": {},
   "outputs": [
    {
     "data": {
      "text/html": [
       "<div>\n",
       "<style scoped>\n",
       "    .dataframe tbody tr th:only-of-type {\n",
       "        vertical-align: middle;\n",
       "    }\n",
       "\n",
       "    .dataframe tbody tr th {\n",
       "        vertical-align: top;\n",
       "    }\n",
       "\n",
       "    .dataframe thead th {\n",
       "        text-align: right;\n",
       "    }\n",
       "</style>\n",
       "<table border=\"1\" class=\"dataframe\">\n",
       "  <thead>\n",
       "    <tr style=\"text-align: right;\">\n",
       "      <th></th>\n",
       "      <th></th>\n",
       "      <th>0</th>\n",
       "    </tr>\n",
       "  </thead>\n",
       "  <tbody>\n",
       "    <tr>\n",
       "      <th>r19c24</th>\n",
       "      <th>r18c24</th>\n",
       "      <td>0.990601</td>\n",
       "    </tr>\n",
       "    <tr>\n",
       "      <th>r20c24</th>\n",
       "      <th>r19c24</th>\n",
       "      <td>0.990049</td>\n",
       "    </tr>\n",
       "    <tr>\n",
       "      <th>r19c23</th>\n",
       "      <th>r18c23</th>\n",
       "      <td>0.989851</td>\n",
       "    </tr>\n",
       "    <tr>\n",
       "      <th>r22c6</th>\n",
       "      <th>r23c6</th>\n",
       "      <td>0.989407</td>\n",
       "    </tr>\n",
       "  </tbody>\n",
       "</table>\n",
       "</div>"
      ],
      "text/plain": [
       "                      0\n",
       "r19c24 r18c24  0.990601\n",
       "r20c24 r19c24  0.990049\n",
       "r19c23 r18c23  0.989851\n",
       "r22c6  r23c6   0.989407"
      ]
     },
     "execution_count": 27,
     "metadata": {},
     "output_type": "execute_result"
    }
   ],
   "source": [
    "corr_frames[1]"
   ]
  },
  {
   "cell_type": "code",
   "execution_count": 28,
   "metadata": {},
   "outputs": [
    {
     "data": {
      "text/html": [
       "<div>\n",
       "<style scoped>\n",
       "    .dataframe tbody tr th:only-of-type {\n",
       "        vertical-align: middle;\n",
       "    }\n",
       "\n",
       "    .dataframe tbody tr th {\n",
       "        vertical-align: top;\n",
       "    }\n",
       "\n",
       "    .dataframe thead th {\n",
       "        text-align: right;\n",
       "    }\n",
       "</style>\n",
       "<table border=\"1\" class=\"dataframe\">\n",
       "  <thead>\n",
       "    <tr style=\"text-align: right;\">\n",
       "      <th></th>\n",
       "      <th></th>\n",
       "      <th>0</th>\n",
       "    </tr>\n",
       "  </thead>\n",
       "  <tbody>\n",
       "    <tr>\n",
       "      <th>r20c33</th>\n",
       "      <th>r20c34</th>\n",
       "      <td>0.989191</td>\n",
       "    </tr>\n",
       "    <tr>\n",
       "      <th>r21c13</th>\n",
       "      <th>r21c14</th>\n",
       "      <td>0.987849</td>\n",
       "    </tr>\n",
       "    <tr>\n",
       "      <th>r24c38</th>\n",
       "      <th>r25c38</th>\n",
       "      <td>0.987644</td>\n",
       "    </tr>\n",
       "    <tr>\n",
       "      <th>r19c33</th>\n",
       "      <th>r19c34</th>\n",
       "      <td>0.987560</td>\n",
       "    </tr>\n",
       "  </tbody>\n",
       "</table>\n",
       "</div>"
      ],
      "text/plain": [
       "                      0\n",
       "r20c33 r20c34  0.989191\n",
       "r21c13 r21c14  0.987849\n",
       "r24c38 r25c38  0.987644\n",
       "r19c33 r19c34  0.987560"
      ]
     },
     "execution_count": 28,
     "metadata": {},
     "output_type": "execute_result"
    }
   ],
   "source": [
    "corr_frames[2]"
   ]
  },
  {
   "cell_type": "code",
   "execution_count": 29,
   "metadata": {},
   "outputs": [
    {
     "data": {
      "text/html": [
       "<div>\n",
       "<style scoped>\n",
       "    .dataframe tbody tr th:only-of-type {\n",
       "        vertical-align: middle;\n",
       "    }\n",
       "\n",
       "    .dataframe tbody tr th {\n",
       "        vertical-align: top;\n",
       "    }\n",
       "\n",
       "    .dataframe thead th {\n",
       "        text-align: right;\n",
       "    }\n",
       "</style>\n",
       "<table border=\"1\" class=\"dataframe\">\n",
       "  <thead>\n",
       "    <tr style=\"text-align: right;\">\n",
       "      <th></th>\n",
       "      <th></th>\n",
       "      <th>0</th>\n",
       "    </tr>\n",
       "  </thead>\n",
       "  <tbody>\n",
       "    <tr>\n",
       "      <th>r24c9</th>\n",
       "      <th>r25c9</th>\n",
       "      <td>0.989326</td>\n",
       "    </tr>\n",
       "    <tr>\n",
       "      <th>r18c5</th>\n",
       "      <th>r19c5</th>\n",
       "      <td>0.989144</td>\n",
       "    </tr>\n",
       "    <tr>\n",
       "      <th>r21c34</th>\n",
       "      <th>r21c33</th>\n",
       "      <td>0.989105</td>\n",
       "    </tr>\n",
       "    <tr>\n",
       "      <th>r25c9</th>\n",
       "      <th>r26c9</th>\n",
       "      <td>0.988750</td>\n",
       "    </tr>\n",
       "  </tbody>\n",
       "</table>\n",
       "</div>"
      ],
      "text/plain": [
       "                      0\n",
       "r24c9  r25c9   0.989326\n",
       "r18c5  r19c5   0.989144\n",
       "r21c34 r21c33  0.989105\n",
       "r25c9  r26c9   0.988750"
      ]
     },
     "execution_count": 29,
     "metadata": {},
     "output_type": "execute_result"
    }
   ],
   "source": [
    "corr_frames[3]"
   ]
  },
  {
   "cell_type": "code",
   "execution_count": 30,
   "metadata": {},
   "outputs": [
    {
     "data": {
      "text/html": [
       "<div>\n",
       "<style scoped>\n",
       "    .dataframe tbody tr th:only-of-type {\n",
       "        vertical-align: middle;\n",
       "    }\n",
       "\n",
       "    .dataframe tbody tr th {\n",
       "        vertical-align: top;\n",
       "    }\n",
       "\n",
       "    .dataframe thead th {\n",
       "        text-align: right;\n",
       "    }\n",
       "</style>\n",
       "<table border=\"1\" class=\"dataframe\">\n",
       "  <thead>\n",
       "    <tr style=\"text-align: right;\">\n",
       "      <th></th>\n",
       "      <th></th>\n",
       "      <th>0</th>\n",
       "    </tr>\n",
       "  </thead>\n",
       "  <tbody>\n",
       "    <tr>\n",
       "      <th>r2c22</th>\n",
       "      <th>r2c23</th>\n",
       "      <td>0.991728</td>\n",
       "    </tr>\n",
       "    <tr>\n",
       "      <th>r1c24</th>\n",
       "      <th>r1c23</th>\n",
       "      <td>0.991722</td>\n",
       "    </tr>\n",
       "    <tr>\n",
       "      <th>r1c23</th>\n",
       "      <th>r1c22</th>\n",
       "      <td>0.991094</td>\n",
       "    </tr>\n",
       "    <tr>\n",
       "      <th>r1c25</th>\n",
       "      <th>r1c24</th>\n",
       "      <td>0.991063</td>\n",
       "    </tr>\n",
       "  </tbody>\n",
       "</table>\n",
       "</div>"
      ],
      "text/plain": [
       "                    0\n",
       "r2c22 r2c23  0.991728\n",
       "r1c24 r1c23  0.991722\n",
       "r1c23 r1c22  0.991094\n",
       "r1c25 r1c24  0.991063"
      ]
     },
     "execution_count": 30,
     "metadata": {},
     "output_type": "execute_result"
    }
   ],
   "source": [
    "corr_frames[4]"
   ]
  },
  {
   "cell_type": "code",
   "execution_count": 31,
   "metadata": {},
   "outputs": [
    {
     "data": {
      "text/html": [
       "<div>\n",
       "<style scoped>\n",
       "    .dataframe tbody tr th:only-of-type {\n",
       "        vertical-align: middle;\n",
       "    }\n",
       "\n",
       "    .dataframe tbody tr th {\n",
       "        vertical-align: top;\n",
       "    }\n",
       "\n",
       "    .dataframe thead th {\n",
       "        text-align: right;\n",
       "    }\n",
       "</style>\n",
       "<table border=\"1\" class=\"dataframe\">\n",
       "  <thead>\n",
       "    <tr style=\"text-align: right;\">\n",
       "      <th></th>\n",
       "      <th></th>\n",
       "      <th>0</th>\n",
       "    </tr>\n",
       "  </thead>\n",
       "  <tbody>\n",
       "    <tr>\n",
       "      <th>r0c21</th>\n",
       "      <th>r0c20</th>\n",
       "      <td>0.989721</td>\n",
       "    </tr>\n",
       "    <tr>\n",
       "      <th>r1c26</th>\n",
       "      <th>r1c27</th>\n",
       "      <td>0.989500</td>\n",
       "    </tr>\n",
       "    <tr>\n",
       "      <th>r0c29</th>\n",
       "      <th>r0c28</th>\n",
       "      <td>0.989331</td>\n",
       "    </tr>\n",
       "    <tr>\n",
       "      <th>r0c26</th>\n",
       "      <th>r0c25</th>\n",
       "      <td>0.989071</td>\n",
       "    </tr>\n",
       "  </tbody>\n",
       "</table>\n",
       "</div>"
      ],
      "text/plain": [
       "                    0\n",
       "r0c21 r0c20  0.989721\n",
       "r1c26 r1c27  0.989500\n",
       "r0c29 r0c28  0.989331\n",
       "r0c26 r0c25  0.989071"
      ]
     },
     "execution_count": 31,
     "metadata": {},
     "output_type": "execute_result"
    }
   ],
   "source": [
    "corr_frames[5]"
   ]
  },
  {
   "cell_type": "code",
   "execution_count": 32,
   "metadata": {},
   "outputs": [],
   "source": [
    "scaler = StandardScaler()\n",
    "scaler.fit(X)\n",
    "sX = scaler.transform(X)\n",
    "sX = pd.DataFrame(sX, columns = col_names)"
   ]
  },
  {
   "cell_type": "code",
   "execution_count": 33,
   "metadata": {},
   "outputs": [],
   "source": [
    "sX_corr = sX.corr()"
   ]
  },
  {
   "cell_type": "code",
   "execution_count": 34,
   "metadata": {},
   "outputs": [
    {
     "data": {
      "text/html": [
       "<div>\n",
       "<style scoped>\n",
       "    .dataframe tbody tr th:only-of-type {\n",
       "        vertical-align: middle;\n",
       "    }\n",
       "\n",
       "    .dataframe tbody tr th {\n",
       "        vertical-align: top;\n",
       "    }\n",
       "\n",
       "    .dataframe thead th {\n",
       "        text-align: right;\n",
       "    }\n",
       "</style>\n",
       "<table border=\"1\" class=\"dataframe\">\n",
       "  <thead>\n",
       "    <tr style=\"text-align: right;\">\n",
       "      <th></th>\n",
       "      <th></th>\n",
       "      <th>0</th>\n",
       "    </tr>\n",
       "  </thead>\n",
       "  <tbody>\n",
       "    <tr>\n",
       "      <th>r18c23</th>\n",
       "      <th>r19c23</th>\n",
       "      <td>0.988014</td>\n",
       "    </tr>\n",
       "    <tr>\n",
       "      <th>r19c24</th>\n",
       "      <th>r18c24</th>\n",
       "      <td>0.987639</td>\n",
       "    </tr>\n",
       "    <tr>\n",
       "      <th>r23c6</th>\n",
       "      <th>r22c6</th>\n",
       "      <td>0.987603</td>\n",
       "    </tr>\n",
       "    <tr>\n",
       "      <th>r24c39</th>\n",
       "      <th>r25c39</th>\n",
       "      <td>0.987550</td>\n",
       "    </tr>\n",
       "    <tr>\n",
       "      <th>r22c41</th>\n",
       "      <th>r23c41</th>\n",
       "      <td>0.987213</td>\n",
       "    </tr>\n",
       "    <tr>\n",
       "      <th>r23c40</th>\n",
       "      <th>r22c40</th>\n",
       "      <td>0.987059</td>\n",
       "    </tr>\n",
       "    <tr>\n",
       "      <th>r24c39</th>\n",
       "      <th>r23c39</th>\n",
       "      <td>0.987020</td>\n",
       "    </tr>\n",
       "    <tr>\n",
       "      <th>r24c38</th>\n",
       "      <th>r25c38</th>\n",
       "      <td>0.986865</td>\n",
       "    </tr>\n",
       "    <tr>\n",
       "      <th>r24c7</th>\n",
       "      <th>r25c7</th>\n",
       "      <td>0.986711</td>\n",
       "    </tr>\n",
       "    <tr>\n",
       "      <th>r24c37</th>\n",
       "      <th>r25c37</th>\n",
       "      <td>0.986647</td>\n",
       "    </tr>\n",
       "  </tbody>\n",
       "</table>\n",
       "</div>"
      ],
      "text/plain": [
       "                      0\n",
       "r18c23 r19c23  0.988014\n",
       "r19c24 r18c24  0.987639\n",
       "r23c6  r22c6   0.987603\n",
       "r24c39 r25c39  0.987550\n",
       "r22c41 r23c41  0.987213\n",
       "r23c40 r22c40  0.987059\n",
       "r24c39 r23c39  0.987020\n",
       "r24c38 r25c38  0.986865\n",
       "r24c7  r25c7   0.986711\n",
       "r24c37 r25c37  0.986647"
      ]
     },
     "execution_count": 34,
     "metadata": {},
     "output_type": "execute_result"
    }
   ],
   "source": [
    "pd.DataFrame(sX_corr.unstack().sort_values(kind = 'quicksort', ascending=False).drop_duplicates()[1:11])"
   ]
  },
  {
   "cell_type": "code",
   "execution_count": 35,
   "metadata": {},
   "outputs": [],
   "source": [
    "sX = pd.concat([sX, df.iloc[:,0:2]], axis=1)"
   ]
  },
  {
   "cell_type": "markdown",
   "metadata": {},
   "source": [
    "# Step 3: Balance Dataset by Undersample"
   ]
  },
  {
   "cell_type": "code",
   "execution_count": 36,
   "metadata": {
    "scrolled": true
   },
   "outputs": [
    {
     "name": "stdout",
     "output_type": "stream",
     "text": [
      "Resampled dataset shape Counter({'FM': 1205, 'FO': 1205, 'FY': 1205, 'MM': 1205, 'MO': 1205, 'MY': 1205})\n"
     ]
    }
   ],
   "source": [
    "rus = RandomUnderSampler(random_state=0, sampling_strategy = 'not minority')\n",
    "sX_res, y_res = rus.fit_resample(sX, y)\n",
    "print('Resampled dataset shape %s' % Counter(y_res))"
   ]
  },
  {
   "cell_type": "code",
   "execution_count": 37,
   "metadata": {
    "scrolled": true
   },
   "outputs": [
    {
     "data": {
      "text/plain": [
       "<matplotlib.axes._subplots.AxesSubplot at 0x21d66758048>"
      ]
     },
     "execution_count": 37,
     "metadata": {},
     "output_type": "execute_result"
    },
    {
     "data": {
      "image/png": "[encoded data removed]",
      "text/plain": [
       "<Figure size 432x288 with 1 Axes>"
      ]
     },
     "metadata": {},
     "output_type": "display_data"
    }
   ],
   "source": [
    "sns.countplot(y_res, palette = 'Set1')"
   ]
  },
  {
   "cell_type": "code",
   "execution_count": 38,
   "metadata": {},
   "outputs": [
    {
     "data": {
      "text/plain": [
       "7230"
      ]
     },
     "execution_count": 38,
     "metadata": {},
     "output_type": "execute_result"
    }
   ],
   "source": [
    "sres_df = pd.DataFrame(sX_res)\n",
    "sres_df['class'] = y_res\n",
    "len(sres_df)"
   ]
  },
  {
   "cell_type": "markdown",
   "metadata": {},
   "source": [
    "# Step 4: Split Train and Test Set"
   ]
  },
  {
   "cell_type": "code",
   "execution_count": 39,
   "metadata": {},
   "outputs": [],
   "source": [
    "# train and test split\n",
    "sXFY_train, sXFY_test, clFY_train, clFY_test = train_test_split(sres_df[sres_df['class'] == 'FY'].iloc[:,0:2304], sres_df[sres_df['class'] == 'FY'].iloc[:,2306], test_size=0.2, random_state=0)\n",
    "sXFM_train, sXFM_test, clFM_train, clFM_test = train_test_split(sres_df[sres_df['class'] == 'FM'].iloc[:,0:2304], sres_df[sres_df['class'] == 'FM'].iloc[:,2306], test_size=0.2, random_state=0)\n",
    "sXFO_train, sXFO_test, clFO_train, clFO_test = train_test_split(sres_df[sres_df['class'] == 'FO'].iloc[:,0:2304], sres_df[sres_df['class'] == 'FO'].iloc[:,2306], test_size=0.2, random_state=0)\n",
    "sXMY_train, sXMY_test, clMY_train, clMY_test = train_test_split(sres_df[sres_df['class'] == 'MY'].iloc[:,0:2304], sres_df[sres_df['class'] == 'MY'].iloc[:,2306], test_size=0.2, random_state=0)\n",
    "sXMM_train, sXMM_test, clMM_train, clMM_test = train_test_split(sres_df[sres_df['class'] == 'MM'].iloc[:,0:2304], sres_df[sres_df['class'] == 'MM'].iloc[:,2306], test_size=0.2, random_state=0)\n",
    "sXMO_train, sXMO_test, clMO_train, clMO_test = train_test_split(sres_df[sres_df['class'] == 'MO'].iloc[:,0:2304], sres_df[sres_df['class'] == 'MO'].iloc[:,2306], test_size=0.2, random_state=0)"
   ]
  },
  {
   "cell_type": "code",
   "execution_count": 40,
   "metadata": {},
   "outputs": [],
   "source": [
    "X_train = pd.concat([sXFY_train, sXFM_train, sXFO_train, sXMY_train, sXMM_train, sXMO_train]) \n",
    "X_test = pd.concat([sXFY_test, sXFM_test, sXFO_test, sXMY_test, sXMM_test, sXMO_test])\n",
    "y_train = pd.concat([clFY_train, clFM_train, clFO_train, clMY_train, clMM_train, clMO_train])\n",
    "y_test = pd.concat([clFY_test, clFM_test, clFO_test, clMY_test, clMM_test, clMO_test])"
   ]
  },
  {
   "cell_type": "code",
   "execution_count": 41,
   "metadata": {},
   "outputs": [
    {
     "data": {
      "text/plain": [
       "964"
      ]
     },
     "execution_count": 41,
     "metadata": {},
     "output_type": "execute_result"
    }
   ],
   "source": [
    "len(sXFM_train)"
   ]
  },
  {
   "cell_type": "code",
   "execution_count": 42,
   "metadata": {
    "scrolled": true
   },
   "outputs": [
    {
     "name": "stdout",
     "output_type": "stream",
     "text": [
      "5784 1446 5784 1446\n"
     ]
    }
   ],
   "source": [
    "print(len(X_train), len(X_test), len(y_train), len(y_test))"
   ]
  },
  {
   "cell_type": "markdown",
   "metadata": {},
   "source": [
    "# Step 5: Apply KNN Models"
   ]
  },
  {
   "cell_type": "code",
   "execution_count": 43,
   "metadata": {},
   "outputs": [],
   "source": [
    "k = [10,30,50,70,90,110]\n",
    "\n",
    "y_pred_train_ki = []\n",
    "y_pred_test_ki = []\n",
    "\n",
    "for i in k:\n",
    "    classifier = KNeighborsClassifier(n_neighbors = i)\n",
    "    classifier.fit(X_train, y_train)\n",
    "    y_pred_train_ki.append(classifier.predict(X_train))\n",
    "    y_pred_test_ki.append(classifier.predict(X_test))"
   ]
  },
  {
   "cell_type": "code",
   "execution_count": 44,
   "metadata": {},
   "outputs": [],
   "source": [
    "train_perf_k = []\n",
    "test_perf_k = []\n",
    "\n",
    "for i in y_pred_train_ki:\n",
    "    train_perf_k.append(accuracy_score(y_true = y_train, y_pred = i))\n",
    "for i in y_pred_test_ki:\n",
    "    test_perf_k.append(accuracy_score(y_true = y_test, y_pred = i))"
   ]
  },
  {
   "cell_type": "code",
   "execution_count": 45,
   "metadata": {},
   "outputs": [
    {
     "data": {
      "text/plain": [
       "[0.5264522821576764,\n",
       " 0.45919778699861685,\n",
       " 0.43309128630705396,\n",
       " 0.41856846473029047,\n",
       " 0.4088865836791148,\n",
       " 0.39557399723374825]"
      ]
     },
     "execution_count": 45,
     "metadata": {},
     "output_type": "execute_result"
    }
   ],
   "source": [
    "train_perf_k"
   ]
  },
  {
   "cell_type": "code",
   "execution_count": 46,
   "metadata": {},
   "outputs": [
    {
     "data": {
      "text/plain": [
       "[0.37828492392807744,\n",
       " 0.40802213001383125,\n",
       " 0.40110650069156295,\n",
       " 0.3948824343015214,\n",
       " 0.38450899031811897,\n",
       " 0.38035961272475793]"
      ]
     },
     "execution_count": 46,
     "metadata": {},
     "output_type": "execute_result"
    }
   ],
   "source": [
    "test_perf_k"
   ]
  },
  {
   "cell_type": "code",
   "execution_count": 47,
   "metadata": {},
   "outputs": [
    {
     "data": {
      "text/plain": [
       "(10, 110)"
      ]
     },
     "execution_count": 47,
     "metadata": {},
     "output_type": "execute_result"
    },
    {
     "data": {
      "image/png": "[encoded data removed]",
      "text/plain": [
       "<Figure size 432x288 with 1 Axes>"
      ]
     },
     "metadata": {},
     "output_type": "display_data"
    }
   ],
   "source": [
    "sns.lineplot(x = k, y = train_perf_k, color = 'red', label = \"Train Accuracy\")\n",
    "sns.lineplot(x = k, y = test_perf_k, color = 'blue', label = \"Test Accuracy\")\n",
    "\n",
    "plt.title('Accuracy with different # of Neighbors')\n",
    "plt.xlabel('# of Neighbors')\n",
    "plt.ylabel('Test Accuracy')\n",
    "plt.xlim(10, 110)"
   ]
  },
  {
   "cell_type": "code",
   "execution_count": 48,
   "metadata": {},
   "outputs": [],
   "source": [
    "k = [100,105,110,115,120,125]\n",
    "\n",
    "y_pred_train_ki = []\n",
    "y_pred_test_ki = []\n",
    "\n",
    "for i in k:\n",
    "    classifier = KNeighborsClassifier(n_neighbors = i)\n",
    "    classifier.fit(X_train, y_train)\n",
    "    y_pred_train_ki.append(classifier.predict(X_train))\n",
    "    y_pred_test_ki.append(classifier.predict(X_test))"
   ]
  },
  {
   "cell_type": "code",
   "execution_count": 49,
   "metadata": {},
   "outputs": [],
   "source": [
    "train_perf_k = []\n",
    "test_perf_k = []\n",
    "\n",
    "for i in y_pred_train_ki:\n",
    "    train_perf_k.append(accuracy_score(y_true = y_train, y_pred = i))\n",
    "for i in y_pred_test_ki:\n",
    "    test_perf_k.append(accuracy_score(y_true = y_test, y_pred = i))"
   ]
  },
  {
   "cell_type": "code",
   "execution_count": 50,
   "metadata": {},
   "outputs": [
    {
     "data": {
      "text/plain": [
       "[0.4002420470262794,\n",
       " 0.39851313969571234,\n",
       " 0.39557399723374825,\n",
       " 0.39349930843706776,\n",
       " 0.39349930843706776,\n",
       " 0.3943637621023513]"
      ]
     },
     "execution_count": 50,
     "metadata": {},
     "output_type": "execute_result"
    }
   ],
   "source": [
    "train_perf_k"
   ]
  },
  {
   "cell_type": "code",
   "execution_count": 51,
   "metadata": {},
   "outputs": [
    {
     "data": {
      "text/plain": [
       "[0.3852005532503458,\n",
       " 0.3796680497925311,\n",
       " 0.38035961272475793,\n",
       " 0.3817427385892116,\n",
       " 0.38105117565698476,\n",
       " 0.38105117565698476]"
      ]
     },
     "execution_count": 51,
     "metadata": {},
     "output_type": "execute_result"
    }
   ],
   "source": [
    "test_perf_k"
   ]
  },
  {
   "cell_type": "code",
   "execution_count": 52,
   "metadata": {},
   "outputs": [
    {
     "name": "stdout",
     "output_type": "stream",
     "text": [
      "0.015041493775933612\n",
      "0.018845089903181234\n",
      "0.01521438450899032\n",
      "0.011756569847856169\n",
      "0.012448132780082999\n",
      "0.013312586445366537\n"
     ]
    }
   ],
   "source": [
    "for i in range(0,len(train_perf_k)):\n",
    "    print(train_perf_k[i] - test_perf_k[i])"
   ]
  },
  {
   "cell_type": "code",
   "execution_count": 53,
   "metadata": {},
   "outputs": [
    {
     "data": {
      "text/plain": [
       "(100, 125)"
      ]
     },
     "execution_count": 53,
     "metadata": {},
     "output_type": "execute_result"
    },
    {
     "data": {
      "image/png": "[encoded data removed]",
      "text/plain": [
       "<Figure size 432x288 with 1 Axes>"
      ]
     },
     "metadata": {},
     "output_type": "display_data"
    }
   ],
   "source": [
    "sns.lineplot(x = k, y = train_perf_k, color = 'red', label = \"Train Accuracy\")\n",
    "sns.lineplot(x = k, y = test_perf_k, color = 'blue', label = \"Test Accuracy\")\n",
    "\n",
    "plt.title('Accuracy with different # of Neighbors')\n",
    "plt.xlabel('# of Neighbors')\n",
    "plt.ylabel('Test Accuracy')\n",
    "plt.xlim(100, 125)"
   ]
  },
  {
   "cell_type": "code",
   "execution_count": 54,
   "metadata": {},
   "outputs": [
    {
     "data": {
      "text/plain": [
       "array(['MY', 'MY', 'FM', ..., 'MY', 'MO', 'MO'], dtype=object)"
      ]
     },
     "execution_count": 54,
     "metadata": {},
     "output_type": "execute_result"
    }
   ],
   "source": [
    "y_pred_train_ki[3]"
   ]
  },
  {
   "cell_type": "code",
   "execution_count": 55,
   "metadata": {},
   "outputs": [
    {
     "data": {
      "text/plain": [
       "0.39349930843706776"
      ]
     },
     "execution_count": 55,
     "metadata": {},
     "output_type": "execute_result"
    }
   ],
   "source": [
    "train_perf_k[3]"
   ]
  },
  {
   "cell_type": "markdown",
   "metadata": {},
   "source": [
    "# Step 6: Confusion Matrices"
   ]
  },
  {
   "cell_type": "code",
   "execution_count": 56,
   "metadata": {},
   "outputs": [],
   "source": [
    "cmtx_a_train = pd.DataFrame(\n",
    "    confusion_matrix(y_true=y_train,y_pred = y_pred_train_ki[3], labels = ['FY', 'FM', 'FO', 'MY', 'MM', 'MO'], normalize = 'true'),\n",
    "    index=['true:FY', 'true:FM', 'true:FO', 'true:MY', 'true:MM', 'true:MO'], \n",
    "    columns=['pred:FY', 'pred:FM', 'pred:FO', 'pred:MY', 'pred:MM', 'pred:MO'])"
   ]
  },
  {
   "cell_type": "code",
   "execution_count": 57,
   "metadata": {},
   "outputs": [
    {
     "data": {
      "text/html": [
       "<div>\n",
       "<style scoped>\n",
       "    .dataframe tbody tr th:only-of-type {\n",
       "        vertical-align: middle;\n",
       "    }\n",
       "\n",
       "    .dataframe tbody tr th {\n",
       "        vertical-align: top;\n",
       "    }\n",
       "\n",
       "    .dataframe thead th {\n",
       "        text-align: right;\n",
       "    }\n",
       "</style>\n",
       "<table border=\"1\" class=\"dataframe\">\n",
       "  <thead>\n",
       "    <tr style=\"text-align: right;\">\n",
       "      <th></th>\n",
       "      <th>pred:FY</th>\n",
       "      <th>pred:FM</th>\n",
       "      <th>pred:FO</th>\n",
       "      <th>pred:MY</th>\n",
       "      <th>pred:MM</th>\n",
       "      <th>pred:MO</th>\n",
       "    </tr>\n",
       "  </thead>\n",
       "  <tbody>\n",
       "    <tr>\n",
       "      <th>true:FY</th>\n",
       "      <td>0.117220</td>\n",
       "      <td>0.279046</td>\n",
       "      <td>0.264523</td>\n",
       "      <td>0.212656</td>\n",
       "      <td>0.041494</td>\n",
       "      <td>0.085062</td>\n",
       "    </tr>\n",
       "    <tr>\n",
       "      <th>true:FM</th>\n",
       "      <td>0.059129</td>\n",
       "      <td>0.401452</td>\n",
       "      <td>0.295643</td>\n",
       "      <td>0.062241</td>\n",
       "      <td>0.052905</td>\n",
       "      <td>0.128631</td>\n",
       "    </tr>\n",
       "    <tr>\n",
       "      <th>true:FO</th>\n",
       "      <td>0.016598</td>\n",
       "      <td>0.141079</td>\n",
       "      <td>0.545643</td>\n",
       "      <td>0.051867</td>\n",
       "      <td>0.035270</td>\n",
       "      <td>0.209544</td>\n",
       "    </tr>\n",
       "    <tr>\n",
       "      <th>true:MY</th>\n",
       "      <td>0.041494</td>\n",
       "      <td>0.067427</td>\n",
       "      <td>0.189834</td>\n",
       "      <td>0.380705</td>\n",
       "      <td>0.121369</td>\n",
       "      <td>0.199170</td>\n",
       "    </tr>\n",
       "    <tr>\n",
       "      <th>true:MM</th>\n",
       "      <td>0.017635</td>\n",
       "      <td>0.090249</td>\n",
       "      <td>0.132780</td>\n",
       "      <td>0.065353</td>\n",
       "      <td>0.279046</td>\n",
       "      <td>0.414938</td>\n",
       "    </tr>\n",
       "    <tr>\n",
       "      <th>true:MO</th>\n",
       "      <td>0.003112</td>\n",
       "      <td>0.044606</td>\n",
       "      <td>0.181535</td>\n",
       "      <td>0.039419</td>\n",
       "      <td>0.094398</td>\n",
       "      <td>0.636929</td>\n",
       "    </tr>\n",
       "  </tbody>\n",
       "</table>\n",
       "</div>"
      ],
      "text/plain": [
       "          pred:FY   pred:FM   pred:FO   pred:MY   pred:MM   pred:MO\n",
       "true:FY  0.117220  0.279046  0.264523  0.212656  0.041494  0.085062\n",
       "true:FM  0.059129  0.401452  0.295643  0.062241  0.052905  0.128631\n",
       "true:FO  0.016598  0.141079  0.545643  0.051867  0.035270  0.209544\n",
       "true:MY  0.041494  0.067427  0.189834  0.380705  0.121369  0.199170\n",
       "true:MM  0.017635  0.090249  0.132780  0.065353  0.279046  0.414938\n",
       "true:MO  0.003112  0.044606  0.181535  0.039419  0.094398  0.636929"
      ]
     },
     "execution_count": 57,
     "metadata": {},
     "output_type": "execute_result"
    }
   ],
   "source": [
    "cmtx_a_train"
   ]
  },
  {
   "cell_type": "code",
   "execution_count": 58,
   "metadata": {},
   "outputs": [
    {
     "data": {
      "text/plain": [
       "<matplotlib.axes._subplots.AxesSubplot at 0x21d000f1390>"
      ]
     },
     "execution_count": 58,
     "metadata": {},
     "output_type": "execute_result"
    },
    {
     "data": {
      "image/png": "[encoded data removed]",
      "text/plain": [
       "<Figure size 1008x720 with 2 Axes>"
      ]
     },
     "metadata": {},
     "output_type": "display_data"
    }
   ],
   "source": [
    "fig = plt.subplots(figsize = (14,10))\n",
    "\n",
    "sns.heatmap(cmtx_a_train, annot=True, fmt = '.02%', annot_kws={\"size\": 14}, vmin = 0, vmax = 1)"
   ]
  },
  {
   "cell_type": "code",
   "execution_count": 59,
   "metadata": {},
   "outputs": [],
   "source": [
    "cmtx_a_test = pd.DataFrame(\n",
    "    confusion_matrix(y_true=y_test,y_pred = y_pred_test_ki[3], labels = ['FY', 'FM', 'FO', 'MY', 'MM', 'MO'], normalize = 'true'),\n",
    "    index=['true:FY', 'true:FM', 'true:FO', 'true:MY', 'true:MM', 'true:MO'], \n",
    "    columns=['pred:FY', 'pred:FM', 'pred:FO', 'pred:MY', 'pred:MM', 'pred:MO'])"
   ]
  },
  {
   "cell_type": "code",
   "execution_count": 60,
   "metadata": {},
   "outputs": [
    {
     "data": {
      "text/html": [
       "<div>\n",
       "<style scoped>\n",
       "    .dataframe tbody tr th:only-of-type {\n",
       "        vertical-align: middle;\n",
       "    }\n",
       "\n",
       "    .dataframe tbody tr th {\n",
       "        vertical-align: top;\n",
       "    }\n",
       "\n",
       "    .dataframe thead th {\n",
       "        text-align: right;\n",
       "    }\n",
       "</style>\n",
       "<table border=\"1\" class=\"dataframe\">\n",
       "  <thead>\n",
       "    <tr style=\"text-align: right;\">\n",
       "      <th></th>\n",
       "      <th>pred:FY</th>\n",
       "      <th>pred:FM</th>\n",
       "      <th>pred:FO</th>\n",
       "      <th>pred:MY</th>\n",
       "      <th>pred:MM</th>\n",
       "      <th>pred:MO</th>\n",
       "    </tr>\n",
       "  </thead>\n",
       "  <tbody>\n",
       "    <tr>\n",
       "      <th>true:FY</th>\n",
       "      <td>0.082988</td>\n",
       "      <td>0.298755</td>\n",
       "      <td>0.294606</td>\n",
       "      <td>0.165975</td>\n",
       "      <td>0.053942</td>\n",
       "      <td>0.103734</td>\n",
       "    </tr>\n",
       "    <tr>\n",
       "      <th>true:FM</th>\n",
       "      <td>0.058091</td>\n",
       "      <td>0.410788</td>\n",
       "      <td>0.269710</td>\n",
       "      <td>0.053942</td>\n",
       "      <td>0.045643</td>\n",
       "      <td>0.161826</td>\n",
       "    </tr>\n",
       "    <tr>\n",
       "      <th>true:FO</th>\n",
       "      <td>0.029046</td>\n",
       "      <td>0.149378</td>\n",
       "      <td>0.502075</td>\n",
       "      <td>0.049793</td>\n",
       "      <td>0.033195</td>\n",
       "      <td>0.236515</td>\n",
       "    </tr>\n",
       "    <tr>\n",
       "      <th>true:MY</th>\n",
       "      <td>0.024896</td>\n",
       "      <td>0.087137</td>\n",
       "      <td>0.199170</td>\n",
       "      <td>0.402490</td>\n",
       "      <td>0.107884</td>\n",
       "      <td>0.178423</td>\n",
       "    </tr>\n",
       "    <tr>\n",
       "      <th>true:MM</th>\n",
       "      <td>0.008299</td>\n",
       "      <td>0.058091</td>\n",
       "      <td>0.141079</td>\n",
       "      <td>0.070539</td>\n",
       "      <td>0.265560</td>\n",
       "      <td>0.456432</td>\n",
       "    </tr>\n",
       "    <tr>\n",
       "      <th>true:MO</th>\n",
       "      <td>0.004149</td>\n",
       "      <td>0.033195</td>\n",
       "      <td>0.178423</td>\n",
       "      <td>0.041494</td>\n",
       "      <td>0.116183</td>\n",
       "      <td>0.626556</td>\n",
       "    </tr>\n",
       "  </tbody>\n",
       "</table>\n",
       "</div>"
      ],
      "text/plain": [
       "          pred:FY   pred:FM   pred:FO   pred:MY   pred:MM   pred:MO\n",
       "true:FY  0.082988  0.298755  0.294606  0.165975  0.053942  0.103734\n",
       "true:FM  0.058091  0.410788  0.269710  0.053942  0.045643  0.161826\n",
       "true:FO  0.029046  0.149378  0.502075  0.049793  0.033195  0.236515\n",
       "true:MY  0.024896  0.087137  0.199170  0.402490  0.107884  0.178423\n",
       "true:MM  0.008299  0.058091  0.141079  0.070539  0.265560  0.456432\n",
       "true:MO  0.004149  0.033195  0.178423  0.041494  0.116183  0.626556"
      ]
     },
     "execution_count": 60,
     "metadata": {},
     "output_type": "execute_result"
    }
   ],
   "source": [
    "cmtx_a_test"
   ]
  },
  {
   "cell_type": "code",
   "execution_count": 61,
   "metadata": {
    "scrolled": true
   },
   "outputs": [
    {
     "data": {
      "text/plain": [
       "<matplotlib.axes._subplots.AxesSubplot at 0x21d0020ff98>"
      ]
     },
     "execution_count": 61,
     "metadata": {},
     "output_type": "execute_result"
    },
    {
     "data": {
      "image/png": "[encoded data removed]",
      "text/plain": [
       "<Figure size 1008x648 with 2 Axes>"
      ]
     },
     "metadata": {},
     "output_type": "display_data"
    }
   ],
   "source": [
    "fig = plt.subplots(figsize = (14,9))\n",
    "\n",
    "sns.heatmap(cmtx_a_test, annot=True, fmt = '.02%', annot_kws={\"size\": 14}, vmin = 0, vmax = 1)"
   ]
  },
  {
   "cell_type": "markdown",
   "metadata": {},
   "source": [
    "# Step 7: Resample by Over Sampling"
   ]
  },
  {
   "cell_type": "code",
   "execution_count": 62,
   "metadata": {
    "scrolled": true
   },
   "outputs": [
    {
     "name": "stdout",
     "output_type": "stream",
     "text": [
      "Resampled dataset shape Counter({'MY': 6296, 'FY': 6296, 'FM': 6296, 'MM': 6296, 'FO': 6296, 'MO': 6296})\n"
     ]
    }
   ],
   "source": [
    "ros = RandomOverSampler(random_state=0, sampling_strategy = 'not majority')\n",
    "sX_res, y_res = ros.fit_resample(sX, y)\n",
    "print('Resampled dataset shape %s' % Counter(y_res))"
   ]
  },
  {
   "cell_type": "code",
   "execution_count": 63,
   "metadata": {},
   "outputs": [
    {
     "data": {
      "text/plain": [
       "<matplotlib.axes._subplots.AxesSubplot at 0x21d001a9d30>"
      ]
     },
     "execution_count": 63,
     "metadata": {},
     "output_type": "execute_result"
    },
    {
     "data": {
      "image/png": "[encoded data removed]",
      "text/plain": [
       "<Figure size 432x288 with 1 Axes>"
      ]
     },
     "metadata": {},
     "output_type": "display_data"
    }
   ],
   "source": [
    "sns.countplot(y_res.sort_values(), palette = 'Set1')"
   ]
  },
  {
   "cell_type": "code",
   "execution_count": 64,
   "metadata": {},
   "outputs": [
    {
     "data": {
      "text/plain": [
       "37776"
      ]
     },
     "execution_count": 64,
     "metadata": {},
     "output_type": "execute_result"
    }
   ],
   "source": [
    "sres_df = pd.DataFrame(sX_res)\n",
    "sres_df['class'] = y_res\n",
    "len(sres_df)"
   ]
  },
  {
   "cell_type": "code",
   "execution_count": 65,
   "metadata": {},
   "outputs": [],
   "source": [
    "# train and test split\n",
    "sXFY_train, sXFY_test, clFY_train, clFY_test = train_test_split(sres_df[sres_df['class'] == 'FY'].iloc[:,0:2304], sres_df[sres_df['class'] == 'FY'].iloc[:,2306], test_size=0.2, random_state=0)\n",
    "sXFM_train, sXFM_test, clFM_train, clFM_test = train_test_split(sres_df[sres_df['class'] == 'FM'].iloc[:,0:2304], sres_df[sres_df['class'] == 'FM'].iloc[:,2306], test_size=0.2, random_state=0)\n",
    "sXFO_train, sXFO_test, clFO_train, clFO_test = train_test_split(sres_df[sres_df['class'] == 'FO'].iloc[:,0:2304], sres_df[sres_df['class'] == 'FO'].iloc[:,2306], test_size=0.2, random_state=0)\n",
    "sXMY_train, sXMY_test, clMY_train, clMY_test = train_test_split(sres_df[sres_df['class'] == 'MY'].iloc[:,0:2304], sres_df[sres_df['class'] == 'MY'].iloc[:,2306], test_size=0.2, random_state=0)\n",
    "sXMM_train, sXMM_test, clMM_train, clMM_test = train_test_split(sres_df[sres_df['class'] == 'MM'].iloc[:,0:2304], sres_df[sres_df['class'] == 'MM'].iloc[:,2306], test_size=0.2, random_state=0)\n",
    "sXMO_train, sXMO_test, clMO_train, clMO_test = train_test_split(sres_df[sres_df['class'] == 'MO'].iloc[:,0:2304], sres_df[sres_df['class'] == 'MO'].iloc[:,2306], test_size=0.2, random_state=0)"
   ]
  },
  {
   "cell_type": "code",
   "execution_count": 66,
   "metadata": {},
   "outputs": [],
   "source": [
    "X_train = pd.concat([sXFY_train, sXFM_train, sXFO_train, sXMY_train, sXMM_train, sXMO_train]) \n",
    "X_test = pd.concat([sXFY_test, sXFM_test, sXFO_test, sXMY_test, sXMM_test, sXMO_test])\n",
    "y_train = pd.concat([clFY_train, clFM_train, clFO_train, clMY_train, clMM_train, clMO_train])\n",
    "y_test = pd.concat([clFY_test, clFM_test, clFO_test, clMY_test, clMM_test, clMO_test])"
   ]
  },
  {
   "cell_type": "code",
   "execution_count": 67,
   "metadata": {},
   "outputs": [
    {
     "name": "stdout",
     "output_type": "stream",
     "text": [
      "30216 7560 30216 7560\n"
     ]
    }
   ],
   "source": [
    "print(len(X_train), len(X_test), len(y_train), len(y_test))"
   ]
  },
  {
   "cell_type": "markdown",
   "metadata": {},
   "source": [
    "# Step 8: Apply Principal Component Analysis"
   ]
  },
  {
   "cell_type": "code",
   "execution_count": 69,
   "metadata": {
    "scrolled": false
   },
   "outputs": [
    {
     "data": {
      "text/plain": [
       "PCA(n_components=0.95)"
      ]
     },
     "execution_count": 69,
     "metadata": {},
     "output_type": "execute_result"
    }
   ],
   "source": [
    "pca = PCA(.95)\n",
    "pca.fit(X_train)"
   ]
  },
  {
   "cell_type": "code",
   "execution_count": 70,
   "metadata": {},
   "outputs": [
    {
     "data": {
      "text/plain": [
       "188"
      ]
     },
     "execution_count": 70,
     "metadata": {},
     "output_type": "execute_result"
    }
   ],
   "source": [
    "pca.n_components_"
   ]
  },
  {
   "cell_type": "code",
   "execution_count": 71,
   "metadata": {},
   "outputs": [],
   "source": [
    "X_train = pca.transform(X_train)\n",
    "X_test = pca.transform(X_test)"
   ]
  },
  {
   "cell_type": "code",
   "execution_count": 72,
   "metadata": {},
   "outputs": [],
   "source": [
    "X_train = pd.DataFrame(X_train)\n",
    "X_test = pd.DataFrame(X_test)"
   ]
  },
  {
   "cell_type": "markdown",
   "metadata": {},
   "source": [
    "# Step 9: Apply KNN on PCA Dataset"
   ]
  },
  {
   "cell_type": "code",
   "execution_count": 73,
   "metadata": {},
   "outputs": [],
   "source": [
    "k = [10,30,50,70,90]\n",
    "\n",
    "y_pred_train_ki = []\n",
    "y_pred_test_ki = []\n",
    "\n",
    "for i in k:\n",
    "    classifier = KNeighborsClassifier(n_neighbors = i)\n",
    "    classifier.fit(X_train, y_train)\n",
    "    y_pred_train_ki.append(classifier.predict(X_train))\n",
    "    y_pred_test_ki.append(classifier.predict(X_test))"
   ]
  },
  {
   "cell_type": "code",
   "execution_count": 74,
   "metadata": {},
   "outputs": [],
   "source": [
    "train_perf_k = []\n",
    "test_perf_k = []\n",
    "\n",
    "for i in y_pred_train_ki:\n",
    "    train_perf_k.append(accuracy_score(y_true = y_train, y_pred = i))\n",
    "for i in y_pred_test_ki:\n",
    "    test_perf_k.append(accuracy_score(y_true = y_test, y_pred = i))"
   ]
  },
  {
   "cell_type": "code",
   "execution_count": 75,
   "metadata": {},
   "outputs": [
    {
     "data": {
      "text/plain": [
       "[0.6167924278527932,\n",
       " 0.5151906274821286,\n",
       " 0.4872253110934604,\n",
       " 0.4688575589091872,\n",
       " 0.45998808578236694]"
      ]
     },
     "execution_count": 75,
     "metadata": {},
     "output_type": "execute_result"
    }
   ],
   "source": [
    "train_perf_k"
   ]
  },
  {
   "cell_type": "code",
   "execution_count": 76,
   "metadata": {},
   "outputs": [
    {
     "data": {
      "text/plain": [
       "[0.5054232804232804,\n",
       " 0.4642857142857143,\n",
       " 0.45595238095238094,\n",
       " 0.44457671957671957,\n",
       " 0.44285714285714284]"
      ]
     },
     "execution_count": 76,
     "metadata": {},
     "output_type": "execute_result"
    }
   ],
   "source": [
    "test_perf_k"
   ]
  },
  {
   "cell_type": "code",
   "execution_count": 77,
   "metadata": {},
   "outputs": [
    {
     "name": "stdout",
     "output_type": "stream",
     "text": [
      "0.11136914742951276\n",
      "0.050904913196414325\n",
      "0.03127293014107946\n",
      "0.024280839332467608\n",
      "0.017130942925224102\n"
     ]
    }
   ],
   "source": [
    "for i in range(0,len(train_perf_k)):\n",
    "    print(train_perf_k[i] - test_perf_k[i])"
   ]
  },
  {
   "cell_type": "code",
   "execution_count": 78,
   "metadata": {
    "scrolled": true
   },
   "outputs": [
    {
     "data": {
      "text/plain": [
       "(10, 90)"
      ]
     },
     "execution_count": 78,
     "metadata": {},
     "output_type": "execute_result"
    },
    {
     "data": {
      "image/png": "[encoded data removed]",
      "text/plain": [
       "<Figure size 432x288 with 1 Axes>"
      ]
     },
     "metadata": {},
     "output_type": "display_data"
    }
   ],
   "source": [
    "sns.lineplot(x = k, y = train_perf_k, color = 'red', label = \"Train Accuracy\")\n",
    "sns.lineplot(x = k, y = test_perf_k, color = 'blue', label = \"Test Accuracy\")\n",
    "\n",
    "plt.title('Accuracy with different # of Neighbors')\n",
    "plt.xlabel('# of Neighbors')\n",
    "plt.ylabel('Test Accuracy')\n",
    "plt.xlim(10, 90)"
   ]
  },
  {
   "cell_type": "code",
   "execution_count": null,
   "metadata": {},
   "outputs": [],
   "source": [
    "k = [90,95,100,105,110]\n",
    "\n",
    "y_pred_train_ki = []\n",
    "y_pred_test_ki = []\n",
    "\n",
    "for i in k:\n",
    "    classifier = KNeighborsClassifier(n_neighbors = i)\n",
    "    classifier.fit(X_train, y_train)\n",
    "    y_pred_train_ki.append(classifier.predict(X_train))\n",
    "    y_pred_test_ki.append(classifier.predict(X_test))\n",
    "    \n",
    "train_perf_k = []\n",
    "test_perf_k = []\n",
    "\n",
    "for i in y_pred_train_ki:\n",
    "    train_perf_k.append(accuracy_score(y_true = y_train, y_pred = i))\n",
    "for i in y_pred_test_ki:\n",
    "    test_perf_k.append(accuracy_score(y_true = y_test, y_pred = i))"
   ]
  },
  {
   "cell_type": "code",
   "execution_count": null,
   "metadata": {},
   "outputs": [],
   "source": [
    "train_perf_k"
   ]
  },
  {
   "cell_type": "code",
   "execution_count": null,
   "metadata": {},
   "outputs": [],
   "source": [
    "test_perf_k"
   ]
  },
  {
   "cell_type": "code",
   "execution_count": null,
   "metadata": {},
   "outputs": [],
   "source": [
    "for i in range(0,len(train_perf_k)):\n",
    "    print(train_perf_k[i] - test_perf_k[i])"
   ]
  },
  {
   "cell_type": "code",
   "execution_count": null,
   "metadata": {},
   "outputs": [],
   "source": [
    "sns.lineplot(x = k, y = train_perf_k, color = 'red', label = \"Train Accuracy\")\n",
    "sns.lineplot(x = k, y = test_perf_k, color = 'blue', label = \"Test Accuracy\")\n",
    "\n",
    "plt.title('Accuracy with different # of Neighbors')\n",
    "plt.xlabel('# of Neighbors')\n",
    "plt.ylabel('Test Accuracy')\n",
    "plt.xlim(90, 110)"
   ]
  },
  {
   "cell_type": "code",
   "execution_count": null,
   "metadata": {},
   "outputs": [],
   "source": [
    "cmtx_a_train = pd.DataFrame(\n",
    "    confusion_matrix(y_true=y_train,y_pred = y_pred_train_ki[3], labels = ['FY', 'FM', 'FO', 'MY', 'MM', 'MO'], normalize = 'true'),\n",
    "    index=['true:FY', 'true:FM', 'true:FO', 'true:MY', 'true:MM', 'true:MO'], \n",
    "    columns=['pred:FY', 'pred:FM', 'pred:FO', 'pred:MY', 'pred:MM', 'pred:MO'])\n",
    "\n",
    "fig = plt.subplots(figsize = (14,10))\n",
    "\n",
    "sns.heatmap(cmtx_a_train, annot=True, fmt = '.02%', annot_kws={\"size\": 14}, vmin = 0, vmax = 1)"
   ]
  },
  {
   "cell_type": "code",
   "execution_count": null,
   "metadata": {},
   "outputs": [],
   "source": [
    "cmtx_a_test = pd.DataFrame(\n",
    "    confusion_matrix(y_true=y_test,y_pred = y_pred_test_ki[3], labels = ['FY', 'FM', 'FO', 'MY', 'MM', 'MO'], normalize = 'true'),\n",
    "    index=['true:FY', 'true:FM', 'true:FO', 'true:MY', 'true:MM', 'true:MO'], \n",
    "    columns=['pred:FY', 'pred:FM', 'pred:FO', 'pred:MY', 'pred:MM', 'pred:MO'])\n",
    "\n",
    "fig = plt.subplots(figsize = (14,9))\n",
    "\n",
    "sns.heatmap(cmtx_a_test, annot=True, fmt = '.02%', annot_kws={\"size\": 14}, vmin = 0, vmax = 1)"
   ]
  },
  {
   "cell_type": "code",
   "execution_count": null,
   "metadata": {},
   "outputs": [],
   "source": [
    "k = [115]\n",
    "\n",
    "y_pred_train_ki = []\n",
    "y_pred_test_ki = []\n",
    "\n",
    "for i in k:\n",
    "    classifier = KNeighborsClassifier(n_neighbors = i)\n",
    "    classifier.fit(X_train, y_train)\n",
    "    y_pred_train_ki.append(classifier.predict(X_train))\n",
    "    y_pred_test_ki.append(classifier.predict(X_test))\n",
    "    \n",
    "train_perf_k = []\n",
    "test_perf_k = []\n",
    "\n",
    "for i in y_pred_train_ki:\n",
    "    train_perf_k.append(accuracy_score(y_true = y_train, y_pred = i))\n",
    "for i in y_pred_test_ki:\n",
    "    test_perf_k.append(accuracy_score(y_true = y_test, y_pred = i))"
   ]
  },
  {
   "cell_type": "code",
   "execution_count": null,
   "metadata": {},
   "outputs": [],
   "source": [
    "print(train_perf_k)\n",
    "print(test_perf_k)"
   ]
  },
  {
   "cell_type": "code",
   "execution_count": null,
   "metadata": {},
   "outputs": [],
   "source": [
    "cmtx_a_train = pd.DataFrame(\n",
    "    confusion_matrix(y_true=y_train,y_pred = y_pred_train_ki[0], labels = ['FY', 'FM', 'FO', 'MY', 'MM', 'MO'], normalize = 'true'),\n",
    "    index=['true:FY', 'true:FM', 'true:FO', 'true:MY', 'true:MM', 'true:MO'], \n",
    "    columns=['pred:FY', 'pred:FM', 'pred:FO', 'pred:MY', 'pred:MM', 'pred:MO'])\n",
    "\n",
    "fig = plt.subplots(figsize = (14,10))\n",
    "\n",
    "sns.heatmap(cmtx_a_train, annot=True, fmt = '.02%', annot_kws={\"size\": 14}, vmin = 0, vmax = 1)"
   ]
  },
  {
   "cell_type": "code",
   "execution_count": null,
   "metadata": {},
   "outputs": [],
   "source": [
    "cmtx_a_test = pd.DataFrame(\n",
    "    confusion_matrix(y_true=y_test,y_pred = y_pred_test_ki[0], labels = ['FY', 'FM', 'FO', 'MY', 'MM', 'MO'], normalize = 'true'),\n",
    "    index=['true:FY', 'true:FM', 'true:FO', 'true:MY', 'true:MM', 'true:MO'], \n",
    "    columns=['pred:FY', 'pred:FM', 'pred:FO', 'pred:MY', 'pred:MM', 'pred:MO'])\n",
    "\n",
    "fig = plt.subplots(figsize = (14,10))\n",
    "\n",
    "sns.heatmap(cmtx_a_test, annot=True, fmt = '.02%', annot_kws={\"size\": 14}, vmin = 0, vmax = 1)"
   ]
  },
  {
   "cell_type": "code",
   "execution_count": null,
   "metadata": {},
   "outputs": [],
   "source": [
    "allDone()"
   ]
  }
 ],
 "metadata": {
  "kernelspec": {
   "display_name": "Python 3",
   "language": "python",
   "name": "python3"
  },
  "language_info": {
   "codemirror_mode": {
    "name": "ipython",
    "version": 3
   },
   "file_extension": ".py",
   "mimetype": "text/x-python",
   "name": "python",
   "nbconvert_exporter": "python",
   "pygments_lexer": "ipython3",
   "version": "3.7.3"
  }
 },
 "nbformat": 4,
 "nbformat_minor": 2
}
